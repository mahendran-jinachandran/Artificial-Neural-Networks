{
 "cells": [
  {
   "cell_type": "markdown",
   "id": "dd6103b5",
   "metadata": {},
   "source": [
    "# ANN with Keras"
   ]
  },
  {
   "cell_type": "markdown",
   "id": "fc6b01be",
   "metadata": {},
   "source": [
    "## Perceptron"
   ]
  },
  {
   "cell_type": "code",
   "execution_count": 30,
   "id": "d560507a",
   "metadata": {},
   "outputs": [],
   "source": [
    "import numpy as np\n",
    "from sklearn.datasets import load_iris\n",
    "from sklearn.linear_model import Perceptron"
   ]
  },
  {
   "cell_type": "code",
   "execution_count": 31,
   "id": "29b8dee9",
   "metadata": {},
   "outputs": [],
   "source": [
    "iris = load_iris()\n",
    "X = iris.data[:, (2, 3)]\n",
    "y = (iris.target == 0).astype(int)"
   ]
  },
  {
   "cell_type": "code",
   "execution_count": 32,
   "id": "11f3334b",
   "metadata": {},
   "outputs": [
    {
     "data": {
      "text/html": [
       "<style>#sk-container-id-1 {color: black;background-color: white;}#sk-container-id-1 pre{padding: 0;}#sk-container-id-1 div.sk-toggleable {background-color: white;}#sk-container-id-1 label.sk-toggleable__label {cursor: pointer;display: block;width: 100%;margin-bottom: 0;padding: 0.3em;box-sizing: border-box;text-align: center;}#sk-container-id-1 label.sk-toggleable__label-arrow:before {content: \"▸\";float: left;margin-right: 0.25em;color: #696969;}#sk-container-id-1 label.sk-toggleable__label-arrow:hover:before {color: black;}#sk-container-id-1 div.sk-estimator:hover label.sk-toggleable__label-arrow:before {color: black;}#sk-container-id-1 div.sk-toggleable__content {max-height: 0;max-width: 0;overflow: hidden;text-align: left;background-color: #f0f8ff;}#sk-container-id-1 div.sk-toggleable__content pre {margin: 0.2em;color: black;border-radius: 0.25em;background-color: #f0f8ff;}#sk-container-id-1 input.sk-toggleable__control:checked~div.sk-toggleable__content {max-height: 200px;max-width: 100%;overflow: auto;}#sk-container-id-1 input.sk-toggleable__control:checked~label.sk-toggleable__label-arrow:before {content: \"▾\";}#sk-container-id-1 div.sk-estimator input.sk-toggleable__control:checked~label.sk-toggleable__label {background-color: #d4ebff;}#sk-container-id-1 div.sk-label input.sk-toggleable__control:checked~label.sk-toggleable__label {background-color: #d4ebff;}#sk-container-id-1 input.sk-hidden--visually {border: 0;clip: rect(1px 1px 1px 1px);clip: rect(1px, 1px, 1px, 1px);height: 1px;margin: -1px;overflow: hidden;padding: 0;position: absolute;width: 1px;}#sk-container-id-1 div.sk-estimator {font-family: monospace;background-color: #f0f8ff;border: 1px dotted black;border-radius: 0.25em;box-sizing: border-box;margin-bottom: 0.5em;}#sk-container-id-1 div.sk-estimator:hover {background-color: #d4ebff;}#sk-container-id-1 div.sk-parallel-item::after {content: \"\";width: 100%;border-bottom: 1px solid gray;flex-grow: 1;}#sk-container-id-1 div.sk-label:hover label.sk-toggleable__label {background-color: #d4ebff;}#sk-container-id-1 div.sk-serial::before {content: \"\";position: absolute;border-left: 1px solid gray;box-sizing: border-box;top: 0;bottom: 0;left: 50%;z-index: 0;}#sk-container-id-1 div.sk-serial {display: flex;flex-direction: column;align-items: center;background-color: white;padding-right: 0.2em;padding-left: 0.2em;position: relative;}#sk-container-id-1 div.sk-item {position: relative;z-index: 1;}#sk-container-id-1 div.sk-parallel {display: flex;align-items: stretch;justify-content: center;background-color: white;position: relative;}#sk-container-id-1 div.sk-item::before, #sk-container-id-1 div.sk-parallel-item::before {content: \"\";position: absolute;border-left: 1px solid gray;box-sizing: border-box;top: 0;bottom: 0;left: 50%;z-index: -1;}#sk-container-id-1 div.sk-parallel-item {display: flex;flex-direction: column;z-index: 1;position: relative;background-color: white;}#sk-container-id-1 div.sk-parallel-item:first-child::after {align-self: flex-end;width: 50%;}#sk-container-id-1 div.sk-parallel-item:last-child::after {align-self: flex-start;width: 50%;}#sk-container-id-1 div.sk-parallel-item:only-child::after {width: 0;}#sk-container-id-1 div.sk-dashed-wrapped {border: 1px dashed gray;margin: 0 0.4em 0.5em 0.4em;box-sizing: border-box;padding-bottom: 0.4em;background-color: white;}#sk-container-id-1 div.sk-label label {font-family: monospace;font-weight: bold;display: inline-block;line-height: 1.2em;}#sk-container-id-1 div.sk-label-container {text-align: center;}#sk-container-id-1 div.sk-container {/* jupyter's `normalize.less` sets `[hidden] { display: none; }` but bootstrap.min.css set `[hidden] { display: none !important; }` so we also need the `!important` here to be able to override the default hidden behavior on the sphinx rendered scikit-learn.org. See: https://github.com/scikit-learn/scikit-learn/issues/21755 */display: inline-block !important;position: relative;}#sk-container-id-1 div.sk-text-repr-fallback {display: none;}</style><div id=\"sk-container-id-1\" class=\"sk-top-container\"><div class=\"sk-text-repr-fallback\"><pre>Perceptron()</pre><b>In a Jupyter environment, please rerun this cell to show the HTML representation or trust the notebook. <br />On GitHub, the HTML representation is unable to render, please try loading this page with nbviewer.org.</b></div><div class=\"sk-container\" hidden><div class=\"sk-item\"><div class=\"sk-estimator sk-toggleable\"><input class=\"sk-toggleable__control sk-hidden--visually\" id=\"sk-estimator-id-1\" type=\"checkbox\" checked><label for=\"sk-estimator-id-1\" class=\"sk-toggleable__label sk-toggleable__label-arrow\">Perceptron</label><div class=\"sk-toggleable__content\"><pre>Perceptron()</pre></div></div></div></div></div>"
      ],
      "text/plain": [
       "Perceptron()"
      ]
     },
     "execution_count": 32,
     "metadata": {},
     "output_type": "execute_result"
    }
   ],
   "source": [
    "per_clf = Perceptron()\n",
    "per_clf.fit(X, y)"
   ]
  },
  {
   "cell_type": "code",
   "execution_count": 33,
   "id": "7a623ce2",
   "metadata": {},
   "outputs": [
    {
     "data": {
      "text/plain": [
       "array([0])"
      ]
     },
     "execution_count": 33,
     "metadata": {},
     "output_type": "execute_result"
    }
   ],
   "source": [
    "y_pred = per_clf.predict([[2, 0.5]])\n",
    "y_pred"
   ]
  },
  {
   "cell_type": "markdown",
   "id": "44600849",
   "metadata": {},
   "source": [
    "## TensorFlow"
   ]
  },
  {
   "cell_type": "markdown",
   "id": "acf91498",
   "metadata": {},
   "source": [
    "## Sequential API"
   ]
  },
  {
   "cell_type": "markdown",
   "id": "fb377562",
   "metadata": {},
   "source": [
    "### Classification"
   ]
  },
  {
   "cell_type": "code",
   "execution_count": 13,
   "id": "1795a0a3",
   "metadata": {},
   "outputs": [],
   "source": [
    "import tensorflow as tf\n",
    "from tensorflow import keras\n",
    "import matplotlib.pyplot as plt\n",
    "import numpy as np"
   ]
  },
  {
   "cell_type": "code",
   "execution_count": 35,
   "id": "c62a28d4",
   "metadata": {},
   "outputs": [],
   "source": [
    "fashion_mnist = keras.datasets.fashion_mnist\n",
    "(X_train_full, y_train_full), (X_test, y_test) = fashion_mnist.load_data()"
   ]
  },
  {
   "cell_type": "code",
   "execution_count": 36,
   "id": "51729e79",
   "metadata": {},
   "outputs": [
    {
     "data": {
      "text/plain": [
       "(60000, 28, 28)"
      ]
     },
     "execution_count": 36,
     "metadata": {},
     "output_type": "execute_result"
    }
   ],
   "source": [
    "X_train_full.shape"
   ]
  },
  {
   "cell_type": "code",
   "execution_count": 37,
   "id": "2ed55717",
   "metadata": {},
   "outputs": [],
   "source": [
    "# For simplicity purposes, we’ll scale the pixel intensities down to the 0–1 range by dividing them by 255.0\n",
    "X_valid, X_train = X_train_full[:5000] / 255.0, X_train_full[5000:] / 255.0\n",
    "y_valid, y_train = y_train_full[:5000], y_train_full[5000:]"
   ]
  },
  {
   "cell_type": "code",
   "execution_count": 38,
   "id": "8ce51463",
   "metadata": {},
   "outputs": [],
   "source": [
    "class_names = [\"T-shirt/top\", \"Trouser\", \"Pullover\", \"Dress\", \"Coat\", \"Sandal\", \"Shirt\", \"Sneaker\", \"Bag\", \"Ankle boot\"]"
   ]
  },
  {
   "cell_type": "code",
   "execution_count": 39,
   "id": "7f3819b7",
   "metadata": {},
   "outputs": [
    {
     "data": {
      "text/plain": [
       "'Coat'"
      ]
     },
     "execution_count": 39,
     "metadata": {},
     "output_type": "execute_result"
    }
   ],
   "source": [
    "class_names[y_train[0]]"
   ]
  },
  {
   "cell_type": "code",
   "execution_count": 40,
   "id": "5b118840",
   "metadata": {},
   "outputs": [
    {
     "data": {
      "image/png": "[encoded data removed]",
      "text/plain": [
       "<Figure size 600x600 with 9 Axes>"
      ]
     },
     "metadata": {},
     "output_type": "display_data"
    }
   ],
   "source": [
    "# Display first 9 images\n",
    "plt.figure(figsize=(6,6))\n",
    "for i in range(9):\n",
    "    plt.subplot(3,3,i+1)\n",
    "    plt.xticks([])  # Remove x-axis ticks\n",
    "    plt.yticks([])  # Remove y-axis ticks\n",
    "    plt.grid(False) # Remove grid\n",
    "    plt.imshow(X_train[i], cmap=plt.cm.binary)  # Show image in grayscale\n",
    "    plt.title(class_names[y_train[i]])\n",
    "plt.show()"
   ]
  },
  {
   "cell_type": "code",
   "execution_count": 41,
   "id": "329cec98",
   "metadata": {},
   "outputs": [],
   "source": [
    "# model = keras.models.Sequential()\n",
    "# model.add(keras.layers.Flatten(input_shape=[28, 28]))\n",
    "# model.add(keras.layers.Dense(300, activation=\"relu\")) #keras.activations.relu\n",
    "# model.add(keras.layers.Dense(100, activation=\"relu\")) #keras.activations.relu\n",
    "# model.add(keras.layers.Dense(10, activation=\"softmax\")) #keras.activations.softmax"
   ]
  },
  {
   "cell_type": "code",
   "execution_count": 42,
   "id": "95f727e3",
   "metadata": {},
   "outputs": [],
   "source": [
    "model = keras.models.Sequential([\n",
    "    keras.layers.Flatten(input_shape=[28, 28]),\n",
    "    keras.layers.Dense(300, activation=\"relu\"),\n",
    "    keras.layers.Dense(100, activation=\"relu\"),\n",
    "    keras.layers.Dense(10, activation=\"softmax\")\n",
    "])"
   ]
  },
  {
   "cell_type": "code",
   "execution_count": 43,
   "id": "182abc7c",
   "metadata": {},
   "outputs": [
    {
     "name": "stdout",
     "output_type": "stream",
     "text": [
      "Model: \"sequential_1\"\n",
      "_________________________________________________________________\n",
      " Layer (type)                Output Shape              Param #   \n",
      "=================================================================\n",
      " flatten_1 (Flatten)         (None, 784)               0         \n",
      "                                                                 \n",
      " dense_3 (Dense)             (None, 300)               235500    \n",
      "                                                                 \n",
      " dense_4 (Dense)             (None, 100)               30100     \n",
      "                                                                 \n",
      " dense_5 (Dense)             (None, 10)                1010      \n",
      "                                                                 \n",
      "=================================================================\n",
      "Total params: 266610 (1.02 MB)\n",
      "Trainable params: 266610 (1.02 MB)\n",
      "Non-trainable params: 0 (0.00 Byte)\n",
      "_________________________________________________________________\n"
     ]
    }
   ],
   "source": [
    "model.summary()"
   ]
  },
  {
   "cell_type": "code",
   "execution_count": 44,
   "id": "a6d7685d",
   "metadata": {},
   "outputs": [
    {
     "data": {
      "text/plain": [
       "[<keras.src.layers.reshaping.flatten.Flatten at 0x34aa87670>,\n",
       " <keras.src.layers.core.dense.Dense at 0x34b00c8e0>,\n",
       " <keras.src.layers.core.dense.Dense at 0x34b237cd0>,\n",
       " <keras.src.layers.core.dense.Dense at 0x34b236b30>]"
      ]
     },
     "execution_count": 44,
     "metadata": {},
     "output_type": "execute_result"
    }
   ],
   "source": [
    "model.layers"
   ]
  },
  {
   "cell_type": "code",
   "execution_count": 45,
   "id": "a82ad6a0",
   "metadata": {},
   "outputs": [
    {
     "data": {
      "text/plain": [
       "'dense_3'"
      ]
     },
     "execution_count": 45,
     "metadata": {},
     "output_type": "execute_result"
    }
   ],
   "source": [
    "hidden1 = model.layers[1]\n",
    "hidden1.name"
   ]
  },
  {
   "cell_type": "code",
   "execution_count": 46,
   "id": "9d39b133",
   "metadata": {},
   "outputs": [
    {
     "data": {
      "text/plain": [
       "array([[ 3.20835710e-02, -5.41985631e-02, -6.00195415e-02, ...,\n",
       "         5.21489233e-03, -6.38047308e-02,  1.41544491e-02],\n",
       "       [ 3.30509245e-02,  6.49264157e-02, -1.13537535e-02, ...,\n",
       "        -5.47876731e-02,  5.37819862e-02, -6.64682984e-02],\n",
       "       [ 5.28828800e-02,  3.75866517e-02,  5.94108701e-02, ...,\n",
       "         1.91336647e-02,  3.05234194e-02,  5.66390753e-02],\n",
       "       ...,\n",
       "       [ 1.58306286e-02,  4.23144847e-02, -5.60674407e-02, ...,\n",
       "        -5.04211262e-02, -5.03073744e-02, -6.09006137e-02],\n",
       "       [-2.83199027e-02, -4.37526330e-02,  4.87609878e-02, ...,\n",
       "        -5.61330467e-03,  5.11811525e-02,  6.81477636e-02],\n",
       "       [-1.01067647e-02, -2.53197737e-02, -2.08630152e-02, ...,\n",
       "        -3.49571966e-02,  5.05171791e-02, -1.67116523e-05]], dtype=float32)"
      ]
     },
     "execution_count": 46,
     "metadata": {},
     "output_type": "execute_result"
    }
   ],
   "source": [
    "weights, bias = hidden1.get_weights()\n",
    "weights"
   ]
  },
  {
   "cell_type": "code",
   "execution_count": 47,
   "id": "fc9a021f",
   "metadata": {},
   "outputs": [
    {
     "data": {
      "text/plain": [
       "(784, 300)"
      ]
     },
     "execution_count": 47,
     "metadata": {},
     "output_type": "execute_result"
    }
   ],
   "source": [
    "weights.shape"
   ]
  },
  {
   "cell_type": "code",
   "execution_count": 48,
   "id": "bc715338",
   "metadata": {},
   "outputs": [
    {
     "data": {
      "text/plain": [
       "array([0., 0., 0., 0., 0., 0., 0., 0., 0., 0., 0., 0., 0., 0., 0., 0., 0.,\n",
       "       0., 0., 0., 0., 0., 0., 0., 0., 0., 0., 0., 0., 0., 0., 0., 0., 0.,\n",
       "       0., 0., 0., 0., 0., 0., 0., 0., 0., 0., 0., 0., 0., 0., 0., 0., 0.,\n",
       "       0., 0., 0., 0., 0., 0., 0., 0., 0., 0., 0., 0., 0., 0., 0., 0., 0.,\n",
       "       0., 0., 0., 0., 0., 0., 0., 0., 0., 0., 0., 0., 0., 0., 0., 0., 0.,\n",
       "       0., 0., 0., 0., 0., 0., 0., 0., 0., 0., 0., 0., 0., 0., 0., 0., 0.,\n",
       "       0., 0., 0., 0., 0., 0., 0., 0., 0., 0., 0., 0., 0., 0., 0., 0., 0.,\n",
       "       0., 0., 0., 0., 0., 0., 0., 0., 0., 0., 0., 0., 0., 0., 0., 0., 0.,\n",
       "       0., 0., 0., 0., 0., 0., 0., 0., 0., 0., 0., 0., 0., 0., 0., 0., 0.,\n",
       "       0., 0., 0., 0., 0., 0., 0., 0., 0., 0., 0., 0., 0., 0., 0., 0., 0.,\n",
       "       0., 0., 0., 0., 0., 0., 0., 0., 0., 0., 0., 0., 0., 0., 0., 0., 0.,\n",
       "       0., 0., 0., 0., 0., 0., 0., 0., 0., 0., 0., 0., 0., 0., 0., 0., 0.,\n",
       "       0., 0., 0., 0., 0., 0., 0., 0., 0., 0., 0., 0., 0., 0., 0., 0., 0.,\n",
       "       0., 0., 0., 0., 0., 0., 0., 0., 0., 0., 0., 0., 0., 0., 0., 0., 0.,\n",
       "       0., 0., 0., 0., 0., 0., 0., 0., 0., 0., 0., 0., 0., 0., 0., 0., 0.,\n",
       "       0., 0., 0., 0., 0., 0., 0., 0., 0., 0., 0., 0., 0., 0., 0., 0., 0.,\n",
       "       0., 0., 0., 0., 0., 0., 0., 0., 0., 0., 0., 0., 0., 0., 0., 0., 0.,\n",
       "       0., 0., 0., 0., 0., 0., 0., 0., 0., 0., 0.], dtype=float32)"
      ]
     },
     "execution_count": 48,
     "metadata": {},
     "output_type": "execute_result"
    }
   ],
   "source": [
    "bias"
   ]
  },
  {
   "cell_type": "code",
   "execution_count": 49,
   "id": "a9f207cc",
   "metadata": {},
   "outputs": [
    {
     "data": {
      "text/plain": [
       "(300,)"
      ]
     },
     "execution_count": 49,
     "metadata": {},
     "output_type": "execute_result"
    }
   ],
   "source": [
    "bias.shape"
   ]
  },
  {
   "cell_type": "code",
   "execution_count": 50,
   "id": "839794ab",
   "metadata": {},
   "outputs": [],
   "source": [
    "model.compile(loss=\"sparse_categorical_crossentropy\", optimizer= \"sgd\", metrics=[\"accuracy\"])\n",
    "# keras.losses.sparse_categorical_crossentropy.\n",
    "# keras.optimizers.sgd\n",
    "# keras.metrics.accuracy\n",
    "# keras.metrics.sparse_categorical_accuracy"
   ]
  },
  {
   "cell_type": "code",
   "execution_count": 51,
   "id": "6a55e876",
   "metadata": {},
   "outputs": [
    {
     "name": "stdout",
     "output_type": "stream",
     "text": [
      "Epoch 1/20\n",
      "   1/1719 [..............................] - ETA: 7:11 - loss: 2.3670 - accuracy: 0.1250"
     ]
    },
    {
     "name": "stderr",
     "output_type": "stream",
     "text": [
      "2025-04-14 22:44:41.486730: I tensorflow/core/grappler/optimizers/custom_graph_optimizer_registry.cc:114] Plugin optimizer for device_type GPU is enabled.\n"
     ]
    },
    {
     "name": "stdout",
     "output_type": "stream",
     "text": [
      "1719/1719 [==============================] - ETA: 0s - loss: 0.7098 - accuracy: 0.7594"
     ]
    },
    {
     "name": "stderr",
     "output_type": "stream",
     "text": [
      "2025-04-14 22:44:48.713872: I tensorflow/core/grappler/optimizers/custom_graph_optimizer_registry.cc:114] Plugin optimizer for device_type GPU is enabled.\n"
     ]
    },
    {
     "name": "stdout",
     "output_type": "stream",
     "text": [
      "1719/1719 [==============================] - 8s 4ms/step - loss: 0.7098 - accuracy: 0.7594 - val_loss: 0.5215 - val_accuracy: 0.8252\n",
      "Epoch 2/20\n",
      "1719/1719 [==============================] - 7s 4ms/step - loss: 0.5068 - accuracy: 0.8227 - val_loss: 0.4951 - val_accuracy: 0.8262\n",
      "Epoch 3/20\n",
      "1719/1719 [==============================] - 7s 4ms/step - loss: 0.4723 - accuracy: 0.8348 - val_loss: 0.4521 - val_accuracy: 0.8436\n",
      "Epoch 4/20\n",
      "1719/1719 [==============================] - 7s 4ms/step - loss: 0.4563 - accuracy: 0.8402 - val_loss: 0.4524 - val_accuracy: 0.8446\n",
      "Epoch 5/20\n",
      "1719/1719 [==============================] - 6s 4ms/step - loss: 0.4452 - accuracy: 0.8466 - val_loss: 0.4317 - val_accuracy: 0.8536\n",
      "Epoch 6/20\n",
      "1719/1719 [==============================] - 6s 4ms/step - loss: 0.4364 - accuracy: 0.8483 - val_loss: 0.4422 - val_accuracy: 0.8486\n",
      "Epoch 7/20\n",
      "1719/1719 [==============================] - 6s 4ms/step - loss: 0.4330 - accuracy: 0.8490 - val_loss: 0.4513 - val_accuracy: 0.8466\n",
      "Epoch 8/20\n",
      "1719/1719 [==============================] - 6s 4ms/step - loss: 0.4291 - accuracy: 0.8509 - val_loss: 0.4266 - val_accuracy: 0.8560\n",
      "Epoch 9/20\n",
      "1719/1719 [==============================] - 6s 4ms/step - loss: 0.4284 - accuracy: 0.8502 - val_loss: 0.4544 - val_accuracy: 0.8448\n",
      "Epoch 10/20\n",
      "1719/1719 [==============================] - 7s 4ms/step - loss: 0.4300 - accuracy: 0.8505 - val_loss: 0.4304 - val_accuracy: 0.8532\n",
      "Epoch 11/20\n",
      "1719/1719 [==============================] - 7s 4ms/step - loss: 0.4340 - accuracy: 0.8495 - val_loss: 0.4447 - val_accuracy: 0.8496\n",
      "Epoch 12/20\n",
      "1719/1719 [==============================] - 7s 4ms/step - loss: 0.4451 - accuracy: 0.8470 - val_loss: 0.4413 - val_accuracy: 0.8538\n",
      "Epoch 13/20\n",
      "1719/1719 [==============================] - 7s 4ms/step - loss: 0.4713 - accuracy: 0.8393 - val_loss: 0.4396 - val_accuracy: 0.8538\n",
      "Epoch 14/20\n",
      "1719/1719 [==============================] - 6s 4ms/step - loss: 0.5168 - accuracy: 0.8314 - val_loss: 0.6007 - val_accuracy: 0.7946\n",
      "Epoch 15/20\n",
      "1719/1719 [==============================] - 6s 4ms/step - loss: 0.6062 - accuracy: 0.8250 - val_loss: 0.7621 - val_accuracy: 0.7752\n",
      "Epoch 16/20\n",
      "1719/1719 [==============================] - 7s 4ms/step - loss: 0.7093 - accuracy: 0.8143 - val_loss: 0.5856 - val_accuracy: 0.8332\n",
      "Epoch 17/20\n",
      "1719/1719 [==============================] - 6s 4ms/step - loss: 0.8813 - accuracy: 0.8026 - val_loss: 0.9796 - val_accuracy: 0.7476\n",
      "Epoch 18/20\n",
      "1719/1719 [==============================] - 7s 4ms/step - loss: 1.1471 - accuracy: 0.7956 - val_loss: 1.8147 - val_accuracy: 0.7812\n",
      "Epoch 19/20\n",
      "1719/1719 [==============================] - 6s 4ms/step - loss: 1.7085 - accuracy: 0.7802 - val_loss: 1.1765 - val_accuracy: 0.8078\n",
      "Epoch 20/20\n",
      "1719/1719 [==============================] - 7s 4ms/step - loss: 2.8335 - accuracy: 0.7681 - val_loss: 3.3663 - val_accuracy: 0.7362\n"
     ]
    }
   ],
   "source": [
    "history = model.fit(X_train, y_train, epochs=20, validation_data=(X_valid, y_valid))"
   ]
  },
  {
   "cell_type": "code",
   "execution_count": 52,
   "id": "d710b6eb",
   "metadata": {},
   "outputs": [
    {
     "data": {
      "text/plain": [
       "{'verbose': 1, 'epochs': 20, 'steps': 1719}"
      ]
     },
     "execution_count": 52,
     "metadata": {},
     "output_type": "execute_result"
    }
   ],
   "source": [
    "history.params"
   ]
  },
  {
   "cell_type": "code",
   "execution_count": 53,
   "id": "cb779884",
   "metadata": {},
   "outputs": [
    {
     "data": {
      "text/plain": [
       "dict_keys(['loss', 'accuracy', 'val_loss', 'val_accuracy'])"
      ]
     },
     "execution_count": 53,
     "metadata": {},
     "output_type": "execute_result"
    }
   ],
   "source": [
    "history.history.keys()"
   ]
  },
  {
   "cell_type": "code",
   "execution_count": 54,
   "id": "066a160c",
   "metadata": {},
   "outputs": [
    {
     "data": {
      "image/png": "[encoded data removed]",
      "text/plain": [
       "<Figure size 800x500 with 1 Axes>"
      ]
     },
     "metadata": {},
     "output_type": "display_data"
    }
   ],
   "source": [
    "import pandas as pd\n",
    "import matplotlib.pyplot as plt\n",
    "\n",
    "pd.DataFrame(history.history).plot(figsize=(8, 5))\n",
    "plt.grid(True)\n",
    "plt.gca().set_ylim(0, 1) \n",
    "plt.show()"
   ]
  },
  {
   "cell_type": "code",
   "execution_count": 55,
   "id": "3dbb29d6",
   "metadata": {},
   "outputs": [
    {
     "name": "stdout",
     "output_type": "stream",
     "text": [
      " 17/313 [>.............................] - ETA: 0s - loss: 808.2688 - accuracy: 0.7004  "
     ]
    },
    {
     "name": "stderr",
     "output_type": "stream",
     "text": [
      "2025-04-14 22:59:19.587480: I tensorflow/core/grappler/optimizers/custom_graph_optimizer_registry.cc:114] Plugin optimizer for device_type GPU is enabled.\n"
     ]
    },
    {
     "name": "stdout",
     "output_type": "stream",
     "text": [
      "313/313 [==============================] - 1s 3ms/step - loss: 862.8861 - accuracy: 0.7097\n"
     ]
    },
    {
     "data": {
      "text/plain": [
       "[862.8861083984375, 0.7096999883651733]"
      ]
     },
     "execution_count": 55,
     "metadata": {},
     "output_type": "execute_result"
    }
   ],
   "source": [
    "model.evaluate(X_test, y_test)"
   ]
  },
  {
   "cell_type": "code",
   "execution_count": 56,
   "id": "9357c9d5",
   "metadata": {},
   "outputs": [
    {
     "name": "stdout",
     "output_type": "stream",
     "text": [
      "1/1 [==============================] - 0s 198ms/step\n"
     ]
    },
    {
     "name": "stderr",
     "output_type": "stream",
     "text": [
      "2025-04-14 23:05:45.016251: I tensorflow/core/grappler/optimizers/custom_graph_optimizer_registry.cc:114] Plugin optimizer for device_type GPU is enabled.\n"
     ]
    },
    {
     "data": {
      "text/plain": [
       "array([[0., 0., 0., 0., 0., 0., 0., 0., 0., 1.],\n",
       "       [0., 0., 0., 0., 0., 0., 1., 0., 0., 0.],\n",
       "       [0., 1., 0., 0., 0., 0., 0., 0., 0., 0.]], dtype=float32)"
      ]
     },
     "execution_count": 56,
     "metadata": {},
     "output_type": "execute_result"
    }
   ],
   "source": [
    "X_new = X_test[:3]\n",
    "y_proba = model.predict(X_new)\n",
    "y_proba.round(2)"
   ]
  },
  {
   "cell_type": "markdown",
   "id": "a3f41b9f",
   "metadata": {},
   "source": [
    "### Regression"
   ]
  },
  {
   "cell_type": "code",
   "execution_count": 14,
   "id": "0c3605ea",
   "metadata": {},
   "outputs": [],
   "source": [
    "from sklearn.datasets import fetch_california_housing\n",
    "california_housing = fetch_california_housing()"
   ]
  },
  {
   "cell_type": "code",
   "execution_count": 15,
   "id": "a2a6dbfa",
   "metadata": {},
   "outputs": [],
   "source": [
    "X, y = california_housing.data, california_housing.target"
   ]
  },
  {
   "cell_type": "code",
   "execution_count": 16,
   "id": "b4518ddb",
   "metadata": {},
   "outputs": [],
   "source": [
    "from sklearn.model_selection import train_test_split\n",
    "\n",
    "X_train_full, X_test, y_train_full, y_test = train_test_split(X, y, random_state=42)\n",
    "X_train, X_valid, y_train, y_valid = train_test_split(X_train_full, y_train_full, random_state=42)"
   ]
  },
  {
   "cell_type": "code",
   "execution_count": 17,
   "id": "796a9a0e",
   "metadata": {},
   "outputs": [
    {
     "data": {
      "text/plain": [
       "(8,)"
      ]
     },
     "execution_count": 17,
     "metadata": {},
     "output_type": "execute_result"
    }
   ],
   "source": [
    "tf.random.set_seed(42)\n",
    "shape = X_train.shape[1:]\n",
    "shape"
   ]
  },
  {
   "cell_type": "code",
   "execution_count": 18,
   "id": "b3f14484",
   "metadata": {},
   "outputs": [],
   "source": [
    "norm_layer = keras.layers.Normalization(input_shape = shape)\n",
    "\n",
    "model = keras.models.Sequential([\n",
    "    norm_layer,\n",
    "    keras.layers.Dense(50, activation=\"relu\"),\n",
    "    keras.layers.Dense(50, activation=\"relu\"),\n",
    "    keras.layers.Dense(50, activation=\"relu\"),\n",
    "    keras.layers.Dense(1)\n",
    "])"
   ]
  },
  {
   "cell_type": "code",
   "execution_count": 19,
   "id": "be44c2cc",
   "metadata": {},
   "outputs": [],
   "source": [
    "optimizer = keras.optimizers.legacy.Adam(learning_rate=1e-3)\n",
    "model.compile(loss= keras.losses.mean_squared_error, optimizer=optimizer, metrics= keras.metrics.mean_absolute_error)"
   ]
  },
  {
   "cell_type": "markdown",
   "id": "86aceaa1",
   "metadata": {},
   "source": [
    "The Normalization layer learns the feature means and standard deviations in the training data when you call the adapt() method. Yet when you display the model’s summary, these statistics are listed as non-trainable. This is because these parameters are not affected by\n",
    "gradient descent."
   ]
  },
  {
   "cell_type": "code",
   "execution_count": 20,
   "id": "bdec46a3",
   "metadata": {},
   "outputs": [
    {
     "name": "stderr",
     "output_type": "stream",
     "text": [
      "2025-04-15 21:08:13.135976: I tensorflow/core/grappler/optimizers/custom_graph_optimizer_registry.cc:114] Plugin optimizer for device_type GPU is enabled.\n"
     ]
    }
   ],
   "source": [
    "norm_layer.adapt(X_train)"
   ]
  },
  {
   "cell_type": "code",
   "execution_count": 75,
   "id": "cfb5fcae",
   "metadata": {},
   "outputs": [
    {
     "name": "stdout",
     "output_type": "stream",
     "text": [
      "Epoch 1/20\n"
     ]
    },
    {
     "name": "stderr",
     "output_type": "stream",
     "text": [
      "2025-04-15 16:39:00.777405: I tensorflow/core/grappler/optimizers/custom_graph_optimizer_registry.cc:114] Plugin optimizer for device_type GPU is enabled.\n"
     ]
    },
    {
     "name": "stdout",
     "output_type": "stream",
     "text": [
      "363/363 [==============================] - ETA: 0s - loss: 1.1856 - mean_absolute_error: 0.7108"
     ]
    },
    {
     "name": "stderr",
     "output_type": "stream",
     "text": [
      "2025-04-15 16:39:03.520767: I tensorflow/core/grappler/optimizers/custom_graph_optimizer_registry.cc:114] Plugin optimizer for device_type GPU is enabled.\n"
     ]
    },
    {
     "name": "stdout",
     "output_type": "stream",
     "text": [
      "363/363 [==============================] - 3s 6ms/step - loss: 1.1856 - mean_absolute_error: 0.7108 - val_loss: 3.8137 - val_mean_absolute_error: 0.6551\n",
      "Epoch 2/20\n",
      "363/363 [==============================] - 2s 4ms/step - loss: 0.6251 - mean_absolute_error: 0.5505 - val_loss: 22.4165 - val_mean_absolute_error: 0.6239\n",
      "Epoch 3/20\n",
      "363/363 [==============================] - 2s 4ms/step - loss: 1.1587 - mean_absolute_error: 0.6253 - val_loss: 20.9895 - val_mean_absolute_error: 0.6331\n",
      "Epoch 4/20\n",
      "363/363 [==============================] - 2s 4ms/step - loss: 0.8553 - mean_absolute_error: 0.6259 - val_loss: 63.1688 - val_mean_absolute_error: 0.7921\n",
      "Epoch 5/20\n",
      "363/363 [==============================] - 2s 4ms/step - loss: 0.6604 - mean_absolute_error: 0.5671 - val_loss: 67.2742 - val_mean_absolute_error: 0.7048\n",
      "Epoch 6/20\n",
      "363/363 [==============================] - 1s 4ms/step - loss: 1.9403 - mean_absolute_error: 0.7995 - val_loss: 48.1479 - val_mean_absolute_error: 0.7729\n",
      "Epoch 7/20\n",
      "363/363 [==============================] - 2s 4ms/step - loss: 3.0226 - mean_absolute_error: 1.0100 - val_loss: 9.5411 - val_mean_absolute_error: 0.5838\n",
      "Epoch 8/20\n",
      "363/363 [==============================] - 2s 4ms/step - loss: 2.6901 - mean_absolute_error: 0.9001 - val_loss: 342.3571 - val_mean_absolute_error: 1.3260\n",
      "Epoch 9/20\n",
      "363/363 [==============================] - 2s 4ms/step - loss: 183.2359 - mean_absolute_error: 1.9700 - val_loss: 2.2352 - val_mean_absolute_error: 0.5607\n",
      "Epoch 10/20\n",
      "363/363 [==============================] - 2s 4ms/step - loss: 11.2566 - mean_absolute_error: 1.4304 - val_loss: 0.8404 - val_mean_absolute_error: 0.5305\n",
      "Epoch 11/20\n",
      "363/363 [==============================] - 2s 4ms/step - loss: 1.8406 - mean_absolute_error: 0.6376 - val_loss: 39901.6055 - val_mean_absolute_error: 12.4103\n",
      "Epoch 12/20\n",
      "363/363 [==============================] - 2s 4ms/step - loss: 43.0902 - mean_absolute_error: 2.0170 - val_loss: 62.0237 - val_mean_absolute_error: 0.7107\n",
      "Epoch 13/20\n",
      "363/363 [==============================] - 2s 4ms/step - loss: 1.4330 - mean_absolute_error: 0.6650 - val_loss: 55.8516 - val_mean_absolute_error: 0.7124\n",
      "Epoch 14/20\n",
      "363/363 [==============================] - 2s 4ms/step - loss: 3.6973 - mean_absolute_error: 0.7142 - val_loss: 77.0920 - val_mean_absolute_error: 0.7582\n",
      "Epoch 15/20\n",
      "363/363 [==============================] - 2s 4ms/step - loss: 4.0565 - mean_absolute_error: 0.8347 - val_loss: 34.5167 - val_mean_absolute_error: 0.6468\n",
      "Epoch 16/20\n",
      "363/363 [==============================] - 2s 4ms/step - loss: 1.9262 - mean_absolute_error: 0.7595 - val_loss: 32.6333 - val_mean_absolute_error: 0.6329\n",
      "Epoch 17/20\n",
      "363/363 [==============================] - 2s 4ms/step - loss: 20.9161 - mean_absolute_error: 1.2637 - val_loss: 167.7300 - val_mean_absolute_error: 0.8703\n",
      "Epoch 18/20\n",
      "363/363 [==============================] - 2s 4ms/step - loss: 1.8838 - mean_absolute_error: 0.7720 - val_loss: 30.1230 - val_mean_absolute_error: 0.6463\n",
      "Epoch 19/20\n",
      "363/363 [==============================] - 2s 4ms/step - loss: 7.8299 - mean_absolute_error: 1.2278 - val_loss: 20.1650 - val_mean_absolute_error: 0.6822\n",
      "Epoch 20/20\n",
      "363/363 [==============================] - 2s 4ms/step - loss: 2.4951 - mean_absolute_error: 0.9079 - val_loss: 473.2400 - val_mean_absolute_error: 1.6420\n"
     ]
    }
   ],
   "source": [
    "history = model.fit(X_train, y_train, epochs=20, validation_data=(X_valid, y_valid))"
   ]
  },
  {
   "cell_type": "code",
   "execution_count": 76,
   "id": "c03331ac",
   "metadata": {},
   "outputs": [
    {
     "name": "stdout",
     "output_type": "stream",
     "text": [
      "162/162 [==============================] - 1s 5ms/step - loss: 3.8098 - mean_absolute_error: 1.1128\n"
     ]
    }
   ],
   "source": [
    "mse_test, rmse_test = model.evaluate(X_test, y_test)"
   ]
  },
  {
   "cell_type": "code",
   "execution_count": 77,
   "id": "3a9d8614",
   "metadata": {},
   "outputs": [
    {
     "name": "stderr",
     "output_type": "stream",
     "text": [
      "2025-04-15 16:39:56.443476: I tensorflow/core/grappler/optimizers/custom_graph_optimizer_registry.cc:114] Plugin optimizer for device_type GPU is enabled.\n"
     ]
    },
    {
     "name": "stdout",
     "output_type": "stream",
     "text": [
      "1/1 [==============================] - 0s 398ms/step\n"
     ]
    }
   ],
   "source": [
    "X_new = X_test[:3]\n",
    "y_pred = model.predict(X_new)"
   ]
  },
  {
   "cell_type": "code",
   "execution_count": 81,
   "id": "2ae7c5e7",
   "metadata": {},
   "outputs": [
    {
     "data": {
      "image/png": "[encoded data removed]",
      "text/plain": [
       "<Figure size 800x500 with 1 Axes>"
      ]
     },
     "metadata": {},
     "output_type": "display_data"
    }
   ],
   "source": [
    "pd.DataFrame(history.history).plot(figsize=(8, 5))\n",
    "plt.grid(True)\n",
    "plt.gca().set_ylim(0, 100) \n",
    "plt.show()"
   ]
  },
  {
   "cell_type": "markdown",
   "id": "9dbfd278",
   "metadata": {},
   "source": [
    "## Functional API"
   ]
  },
  {
   "cell_type": "markdown",
   "id": "f9e4a39e",
   "metadata": {},
   "source": [
    "Wide_deep is an Non-Sequential Neural Network"
   ]
  },
  {
   "cell_type": "markdown",
   "id": "23e928b5",
   "metadata": {},
   "source": [
    "See the Wide_deep image \n",
    "\n",
    "Single Input"
   ]
  },
  {
   "cell_type": "code",
   "execution_count": 39,
   "id": "89997fca",
   "metadata": {},
   "outputs": [],
   "source": [
    "normalization_layer = tf.keras.layers.Normalization()\n",
    "hidden_layer1 = tf.keras.layers.Dense(30, activation=\"relu\")\n",
    "hidden_layer2 = tf.keras.layers.Dense(30, activation=\"relu\")\n",
    "concat_layer = tf.keras.layers.Concatenate()\n",
    "output_layer = tf.keras.layers.Dense(1)"
   ]
  },
  {
   "cell_type": "code",
   "execution_count": 40,
   "id": "68b610f5",
   "metadata": {},
   "outputs": [],
   "source": [
    "input_ = tf.keras.layers.Input(shape=X_train.shape[1:])\n",
    "normalized = normalization_layer(input_)\n",
    "hidden1 = hidden_layer1(normalized)\n",
    "hidden2 = hidden_layer2(hidden1)\n",
    "concat = concat_layer([normalized, hidden2])\n",
    "output = output_layer(concat)"
   ]
  },
  {
   "cell_type": "code",
   "execution_count": 41,
   "id": "7b676874",
   "metadata": {},
   "outputs": [],
   "source": [
    "model = tf.keras.Model(inputs=[input_], outputs=[output])"
   ]
  },
  {
   "cell_type": "markdown",
   "id": "5e2ab9fe",
   "metadata": {},
   "source": [
    "Multi-Input"
   ]
  },
  {
   "cell_type": "code",
   "execution_count": 42,
   "id": "0793240e",
   "metadata": {},
   "outputs": [],
   "source": [
    "input_wide = keras.layers.Input(shape=[5])\n",
    "input_deep = keras.layers.Input(shape=[6])\n",
    "\n",
    "norm_layer_1 = keras.layers.Normalization()\n",
    "norm_layer_2 = keras.layers.Normalization()\n",
    "\n",
    "hidden_layer1 = keras.layers.Dense(30, activation=\"relu\")\n",
    "hidden_layer2 = keras.layers.Dense(30, activation=\"relu\")\n",
    "concat_layer = keras.layers.Concatenate()\n",
    "output_layer = keras.layers.Dense(1)"
   ]
  },
  {
   "cell_type": "code",
   "execution_count": 43,
   "id": "851cab58",
   "metadata": {},
   "outputs": [],
   "source": [
    "norm_wide = norm_layer_1(input_wide)\n",
    "norm_deep = norm_layer_2(input_deep)\n",
    "hidden1 = hidden_layer1(norm_deep)\n",
    "hidden2 = hidden_layer2(hidden1)\n",
    "concat = concat_layer([norm_wide, hidden2])\n",
    "output = output_layer(concat)\n",
    "\n",
    "model = keras.Model(inputs=[input_wide, input_deep], outputs=[output])"
   ]
  },
  {
   "cell_type": "code",
   "execution_count": 44,
   "id": "4c46836b",
   "metadata": {},
   "outputs": [
    {
     "name": "stderr",
     "output_type": "stream",
     "text": [
      "2025-04-16 09:41:39.759218: I tensorflow/core/grappler/optimizers/custom_graph_optimizer_registry.cc:114] Plugin optimizer for device_type GPU is enabled.\n",
      "2025-04-16 09:41:40.366561: I tensorflow/core/grappler/optimizers/custom_graph_optimizer_registry.cc:114] Plugin optimizer for device_type GPU is enabled.\n"
     ]
    }
   ],
   "source": [
    "optimizer = keras.optimizers.legacy.Adam(learning_rate=1e-3)\n",
    "model.compile(loss=keras.losses.mean_squared_error, optimizer=optimizer, metrics=keras.metrics.mean_absolute_error)\n",
    "\n",
    "X_train_wide, X_train_deep = X_train[:, :5], X_train[:, 2:]\n",
    "X_valid_wide, X_valid_deep = X_valid[:, :5], X_valid[:, 2:]\n",
    "X_test_wide, X_test_deep = X_test[:, :5], X_test[:, 2:]\n",
    "X_new_wide, X_new_deep = X_test_wide[:3], X_test_deep[:3]\n",
    "\n",
    "norm_layer_1.adapt(X_train_wide)\n",
    "norm_layer_2.adapt(X_train_deep) # Will throw error"
   ]
  },
  {
   "cell_type": "code",
   "execution_count": 45,
   "id": "1d70661c",
   "metadata": {},
   "outputs": [
    {
     "name": "stdout",
     "output_type": "stream",
     "text": [
      "Epoch 1/20\n"
     ]
    },
    {
     "name": "stderr",
     "output_type": "stream",
     "text": [
      "2025-04-16 09:41:46.417373: I tensorflow/core/grappler/optimizers/custom_graph_optimizer_registry.cc:114] Plugin optimizer for device_type GPU is enabled.\n"
     ]
    },
    {
     "name": "stdout",
     "output_type": "stream",
     "text": [
      "363/363 [==============================] - ETA: 0s - loss: 2.1760 - mean_absolute_error: 0.9492"
     ]
    },
    {
     "name": "stderr",
     "output_type": "stream",
     "text": [
      "2025-04-16 09:41:48.438907: I tensorflow/core/grappler/optimizers/custom_graph_optimizer_registry.cc:114] Plugin optimizer for device_type GPU is enabled.\n"
     ]
    },
    {
     "name": "stdout",
     "output_type": "stream",
     "text": [
      "363/363 [==============================] - 3s 5ms/step - loss: 2.1760 - mean_absolute_error: 0.9492 - val_loss: 35.2251 - val_mean_absolute_error: 0.7316\n",
      "Epoch 2/20\n",
      "363/363 [==============================] - 2s 5ms/step - loss: 0.9128 - mean_absolute_error: 0.5824 - val_loss: 51.6409 - val_mean_absolute_error: 0.7173\n",
      "Epoch 3/20\n",
      "363/363 [==============================] - 2s 5ms/step - loss: 1.0815 - mean_absolute_error: 0.5625 - val_loss: 31.2365 - val_mean_absolute_error: 0.6466\n",
      "Epoch 4/20\n",
      "363/363 [==============================] - 2s 4ms/step - loss: 0.8381 - mean_absolute_error: 0.5566 - val_loss: 31.6595 - val_mean_absolute_error: 0.6510\n",
      "Epoch 5/20\n",
      "363/363 [==============================] - 2s 6ms/step - loss: 0.7221 - mean_absolute_error: 0.5604 - val_loss: 8.0380 - val_mean_absolute_error: 0.6509\n",
      "Epoch 6/20\n",
      "363/363 [==============================] - 2s 5ms/step - loss: 0.7320 - mean_absolute_error: 0.5831 - val_loss: 32.2947 - val_mean_absolute_error: 0.6564\n",
      "Epoch 7/20\n",
      "363/363 [==============================] - 2s 4ms/step - loss: 0.8747 - mean_absolute_error: 0.6041 - val_loss: 22.5657 - val_mean_absolute_error: 0.6203\n",
      "Epoch 8/20\n",
      "363/363 [==============================] - 2s 4ms/step - loss: 1.2276 - mean_absolute_error: 0.6439 - val_loss: 142.8202 - val_mean_absolute_error: 1.1308\n",
      "Epoch 9/20\n",
      "363/363 [==============================] - 2s 5ms/step - loss: 1.0581 - mean_absolute_error: 0.6420 - val_loss: 76.1036 - val_mean_absolute_error: 0.7234\n",
      "Epoch 10/20\n",
      "363/363 [==============================] - 2s 4ms/step - loss: 1.5511 - mean_absolute_error: 0.6762 - val_loss: 2.6351 - val_mean_absolute_error: 0.5655\n",
      "Epoch 11/20\n",
      "363/363 [==============================] - 2s 5ms/step - loss: 0.9358 - mean_absolute_error: 0.5460 - val_loss: 1823.3004 - val_mean_absolute_error: 2.9912\n",
      "Epoch 12/20\n",
      "363/363 [==============================] - 2s 5ms/step - loss: 23.2944 - mean_absolute_error: 0.8595 - val_loss: 120.2122 - val_mean_absolute_error: 0.7822\n",
      "Epoch 13/20\n",
      "363/363 [==============================] - 2s 4ms/step - loss: 1.3830 - mean_absolute_error: 0.5458 - val_loss: 34.1345 - val_mean_absolute_error: 0.6576\n",
      "Epoch 14/20\n",
      "363/363 [==============================] - 1s 4ms/step - loss: 0.9813 - mean_absolute_error: 0.5407 - val_loss: 22.2731 - val_mean_absolute_error: 0.6246\n",
      "Epoch 15/20\n",
      "363/363 [==============================] - 2s 4ms/step - loss: 0.9515 - mean_absolute_error: 0.5512 - val_loss: 26.5869 - val_mean_absolute_error: 0.6275\n",
      "Epoch 16/20\n",
      "363/363 [==============================] - 2s 4ms/step - loss: 0.9027 - mean_absolute_error: 0.5607 - val_loss: 22.9438 - val_mean_absolute_error: 0.6141\n",
      "Epoch 17/20\n",
      "363/363 [==============================] - 2s 4ms/step - loss: 1.5307 - mean_absolute_error: 0.5990 - val_loss: 0.9505 - val_mean_absolute_error: 0.5348\n",
      "Epoch 18/20\n",
      "363/363 [==============================] - 2s 4ms/step - loss: 1.5158 - mean_absolute_error: 0.6782 - val_loss: 6.1614 - val_mean_absolute_error: 0.5836\n",
      "Epoch 19/20\n",
      "363/363 [==============================] - 2s 4ms/step - loss: 1.6028 - mean_absolute_error: 0.7516 - val_loss: 10.6308 - val_mean_absolute_error: 0.6368\n",
      "Epoch 20/20\n",
      "363/363 [==============================] - 2s 4ms/step - loss: 1.7212 - mean_absolute_error: 0.7648 - val_loss: 16.7449 - val_mean_absolute_error: 0.6740\n"
     ]
    }
   ],
   "source": [
    "history = model.fit((X_train_wide, X_train_deep), y_train, epochs=20, validation_data=((X_valid_wide, X_valid_deep), y_valid))"
   ]
  },
  {
   "cell_type": "code",
   "execution_count": 46,
   "id": "69489168",
   "metadata": {},
   "outputs": [
    {
     "name": "stdout",
     "output_type": "stream",
     "text": [
      "162/162 [==============================] - 0s 3ms/step - loss: 0.7379 - mean_absolute_error: 0.5874\n",
      "1/1 [==============================] - 0s 52ms/step\n"
     ]
    },
    {
     "name": "stderr",
     "output_type": "stream",
     "text": [
      "2025-04-16 09:42:21.243620: I tensorflow/core/grappler/optimizers/custom_graph_optimizer_registry.cc:114] Plugin optimizer for device_type GPU is enabled.\n"
     ]
    }
   ],
   "source": [
    "mse_test = model.evaluate((X_test_wide, X_test_deep), y_test)\n",
    "y_pred = model.predict((X_new_wide, X_new_deep))"
   ]
  },
  {
   "cell_type": "markdown",
   "id": "df78eeb5",
   "metadata": {},
   "source": [
    "Multi-Output"
   ]
  },
  {
   "cell_type": "code",
   "execution_count": 27,
   "id": "97b370e6",
   "metadata": {},
   "outputs": [],
   "source": [
    "from tensorflow import keras\n",
    "\n",
    "output = keras.layers.Dense(1)(hidden2)\n",
    "aux_output = keras.layers.Dense(1)(hidden2)\n",
    "model = keras.Model(inputs=[input_wide, input_deep], outputs=[output, aux_output])"
   ]
  },
  {
   "cell_type": "code",
   "execution_count": 29,
   "id": "cbf2a456",
   "metadata": {},
   "outputs": [],
   "source": [
    "optimizer = tf.keras.optimizers.legacy.Adam(learning_rate=1e-3)\n",
    "model.compile(loss=(\"mse\", \"mse\"), loss_weights=(0.9, 0.1), optimizer=optimizer, metrics=[\"RootMeanSquaredError\"])"
   ]
  },
  {
   "cell_type": "code",
   "execution_count": 30,
   "id": "70649d67",
   "metadata": {},
   "outputs": [
    {
     "name": "stdout",
     "output_type": "stream",
     "text": [
      "Epoch 1/20\n"
     ]
    },
    {
     "name": "stderr",
     "output_type": "stream",
     "text": [
      "2025-04-15 21:16:09.890867: I tensorflow/core/grappler/optimizers/custom_graph_optimizer_registry.cc:114] Plugin optimizer for device_type GPU is enabled.\n"
     ]
    },
    {
     "name": "stdout",
     "output_type": "stream",
     "text": [
      "363/363 [==============================] - ETA: 0s - loss: 2.4097 - dense_14_loss: 2.3125 - dense_15_loss: 3.2846 - dense_14_root_mean_squared_error: 1.5207 - dense_15_root_mean_squared_error: 1.8124"
     ]
    },
    {
     "name": "stderr",
     "output_type": "stream",
     "text": [
      "2025-04-15 21:16:15.127836: I tensorflow/core/grappler/optimizers/custom_graph_optimizer_registry.cc:114] Plugin optimizer for device_type GPU is enabled.\n"
     ]
    },
    {
     "name": "stdout",
     "output_type": "stream",
     "text": [
      "363/363 [==============================] - 6s 10ms/step - loss: 2.4097 - dense_14_loss: 2.3125 - dense_15_loss: 3.2846 - dense_14_root_mean_squared_error: 1.5207 - dense_15_root_mean_squared_error: 1.8124 - val_loss: 35.1431 - val_dense_14_loss: 37.6943 - val_dense_15_loss: 12.1820 - val_dense_14_root_mean_squared_error: 6.1396 - val_dense_15_root_mean_squared_error: 3.4903\n",
      "Epoch 2/20\n",
      "363/363 [==============================] - 2s 6ms/step - loss: 1.1298 - dense_14_loss: 1.1293 - dense_15_loss: 1.1342 - dense_14_root_mean_squared_error: 1.0627 - dense_15_root_mean_squared_error: 1.0650 - val_loss: 81.3348 - val_dense_14_loss: 87.5064 - val_dense_15_loss: 25.7910 - val_dense_14_root_mean_squared_error: 9.3545 - val_dense_15_root_mean_squared_error: 5.0785\n",
      "Epoch 3/20\n",
      "363/363 [==============================] - 2s 7ms/step - loss: 1.5885 - dense_14_loss: 1.6366 - dense_15_loss: 1.1558 - dense_14_root_mean_squared_error: 1.2793 - dense_15_root_mean_squared_error: 1.0751 - val_loss: 69.0875 - val_dense_14_loss: 75.2426 - val_dense_15_loss: 13.6919 - val_dense_14_root_mean_squared_error: 8.6742 - val_dense_15_root_mean_squared_error: 3.7003\n",
      "Epoch 4/20\n",
      "363/363 [==============================] - 2s 6ms/step - loss: 1.3669 - dense_14_loss: 1.4092 - dense_15_loss: 0.9862 - dense_14_root_mean_squared_error: 1.1871 - dense_15_root_mean_squared_error: 0.9931 - val_loss: 55.2983 - val_dense_14_loss: 59.5976 - val_dense_15_loss: 16.6041 - val_dense_14_root_mean_squared_error: 7.7199 - val_dense_15_root_mean_squared_error: 4.0748\n",
      "Epoch 5/20\n",
      "363/363 [==============================] - 2s 6ms/step - loss: 1.1992 - dense_14_loss: 1.2215 - dense_15_loss: 0.9982 - dense_14_root_mean_squared_error: 1.1052 - dense_15_root_mean_squared_error: 0.9991 - val_loss: 13.2412 - val_dense_14_loss: 14.4883 - val_dense_15_loss: 2.0167 - val_dense_14_root_mean_squared_error: 3.8064 - val_dense_15_root_mean_squared_error: 1.4201\n",
      "Epoch 6/20\n",
      "363/363 [==============================] - 2s 6ms/step - loss: 1.2787 - dense_14_loss: 1.2970 - dense_15_loss: 1.1142 - dense_14_root_mean_squared_error: 1.1388 - dense_15_root_mean_squared_error: 1.0556 - val_loss: 29.4939 - val_dense_14_loss: 32.6577 - val_dense_15_loss: 1.0195 - val_dense_14_root_mean_squared_error: 5.7147 - val_dense_15_root_mean_squared_error: 1.0097\n",
      "Epoch 7/20\n",
      "363/363 [==============================] - 2s 6ms/step - loss: 1.1592 - dense_14_loss: 1.1878 - dense_15_loss: 0.9013 - dense_14_root_mean_squared_error: 1.0899 - dense_15_root_mean_squared_error: 0.9494 - val_loss: 35.5110 - val_dense_14_loss: 37.7431 - val_dense_15_loss: 15.4221 - val_dense_14_root_mean_squared_error: 6.1435 - val_dense_15_root_mean_squared_error: 3.9271\n",
      "Epoch 8/20\n",
      "363/363 [==============================] - 2s 6ms/step - loss: 1.6125 - dense_14_loss: 1.6200 - dense_15_loss: 1.5450 - dense_14_root_mean_squared_error: 1.2728 - dense_15_root_mean_squared_error: 1.2430 - val_loss: 112.6502 - val_dense_14_loss: 100.9995 - val_dense_15_loss: 217.5070 - val_dense_14_root_mean_squared_error: 10.0498 - val_dense_15_root_mean_squared_error: 14.7481\n",
      "Epoch 9/20\n",
      "363/363 [==============================] - 2s 6ms/step - loss: 0.8763 - dense_14_loss: 0.8597 - dense_15_loss: 1.0253 - dense_14_root_mean_squared_error: 0.9272 - dense_15_root_mean_squared_error: 1.0126 - val_loss: 51.9886 - val_dense_14_loss: 52.4359 - val_dense_15_loss: 47.9631 - val_dense_14_root_mean_squared_error: 7.2413 - val_dense_15_root_mean_squared_error: 6.9255\n",
      "Epoch 10/20\n",
      "363/363 [==============================] - 2s 6ms/step - loss: 1.5741 - dense_14_loss: 1.5859 - dense_15_loss: 1.4676 - dense_14_root_mean_squared_error: 1.2593 - dense_15_root_mean_squared_error: 1.2114 - val_loss: 2.3152 - val_dense_14_loss: 2.4745 - val_dense_15_loss: 0.8812 - val_dense_14_root_mean_squared_error: 1.5731 - val_dense_15_root_mean_squared_error: 0.9387\n",
      "Epoch 11/20\n",
      "363/363 [==============================] - 2s 6ms/step - loss: 1.4474 - dense_14_loss: 1.4504 - dense_15_loss: 1.4203 - dense_14_root_mean_squared_error: 1.2043 - dense_15_root_mean_squared_error: 1.1918 - val_loss: 781.5460 - val_dense_14_loss: 816.1346 - val_dense_15_loss: 470.2493 - val_dense_14_root_mean_squared_error: 28.5681 - val_dense_15_root_mean_squared_error: 21.6852\n",
      "Epoch 12/20\n",
      "363/363 [==============================] - 2s 6ms/step - loss: 10.3301 - dense_14_loss: 10.7772 - dense_15_loss: 6.3059 - dense_14_root_mean_squared_error: 3.2829 - dense_15_root_mean_squared_error: 2.5112 - val_loss: 135.6867 - val_dense_14_loss: 130.8806 - val_dense_15_loss: 178.9413 - val_dense_14_root_mean_squared_error: 11.4403 - val_dense_15_root_mean_squared_error: 13.3769\n",
      "Epoch 13/20\n",
      "363/363 [==============================] - 2s 6ms/step - loss: 1.7579 - dense_14_loss: 1.7295 - dense_15_loss: 2.0140 - dense_14_root_mean_squared_error: 1.3151 - dense_15_root_mean_squared_error: 1.4192 - val_loss: 29.3921 - val_dense_14_loss: 30.4350 - val_dense_15_loss: 20.0065 - val_dense_14_root_mean_squared_error: 5.5168 - val_dense_15_root_mean_squared_error: 4.4729\n",
      "Epoch 14/20\n",
      "363/363 [==============================] - 2s 6ms/step - loss: 1.5242 - dense_14_loss: 1.5402 - dense_15_loss: 1.3808 - dense_14_root_mean_squared_error: 1.2410 - dense_15_root_mean_squared_error: 1.1751 - val_loss: 16.8013 - val_dense_14_loss: 15.0647 - val_dense_15_loss: 32.4308 - val_dense_14_root_mean_squared_error: 3.8813 - val_dense_15_root_mean_squared_error: 5.6948\n",
      "Epoch 15/20\n",
      "363/363 [==============================] - 2s 6ms/step - loss: 1.2130 - dense_14_loss: 1.2482 - dense_15_loss: 0.8961 - dense_14_root_mean_squared_error: 1.1172 - dense_15_root_mean_squared_error: 0.9466 - val_loss: 8.4577 - val_dense_14_loss: 8.0218 - val_dense_15_loss: 12.3805 - val_dense_14_root_mean_squared_error: 2.8323 - val_dense_15_root_mean_squared_error: 3.5186\n",
      "Epoch 16/20\n",
      "363/363 [==============================] - 2s 7ms/step - loss: 1.1220 - dense_14_loss: 1.1541 - dense_15_loss: 0.8333 - dense_14_root_mean_squared_error: 1.0743 - dense_15_root_mean_squared_error: 0.9128 - val_loss: 52.3699 - val_dense_14_loss: 49.7819 - val_dense_15_loss: 75.6613 - val_dense_14_root_mean_squared_error: 7.0556 - val_dense_15_root_mean_squared_error: 8.6984\n",
      "Epoch 17/20\n",
      "363/363 [==============================] - 2s 6ms/step - loss: 2.4673 - dense_14_loss: 2.4960 - dense_15_loss: 2.2093 - dense_14_root_mean_squared_error: 1.5799 - dense_15_root_mean_squared_error: 1.4864 - val_loss: 5.5516 - val_dense_14_loss: 6.0433 - val_dense_15_loss: 1.1263 - val_dense_14_root_mean_squared_error: 2.4583 - val_dense_15_root_mean_squared_error: 1.0613\n",
      "Epoch 18/20\n",
      "363/363 [==============================] - 2s 7ms/step - loss: 3.0098 - dense_14_loss: 2.9898 - dense_15_loss: 3.1898 - dense_14_root_mean_squared_error: 1.7291 - dense_15_root_mean_squared_error: 1.7860 - val_loss: 232.0907 - val_dense_14_loss: 209.7286 - val_dense_15_loss: 433.3501 - val_dense_14_root_mean_squared_error: 14.4820 - val_dense_15_root_mean_squared_error: 20.8171\n",
      "Epoch 19/20\n",
      "363/363 [==============================] - 2s 7ms/step - loss: 1.8216 - dense_14_loss: 1.8892 - dense_15_loss: 1.2137 - dense_14_root_mean_squared_error: 1.3745 - dense_15_root_mean_squared_error: 1.1017 - val_loss: 84.4936 - val_dense_14_loss: 86.4104 - val_dense_15_loss: 67.2432 - val_dense_14_root_mean_squared_error: 9.2957 - val_dense_15_root_mean_squared_error: 8.2002\n",
      "Epoch 20/20\n",
      "363/363 [==============================] - 2s 6ms/step - loss: 3.9746 - dense_14_loss: 3.9726 - dense_15_loss: 3.9921 - dense_14_root_mean_squared_error: 1.9931 - dense_15_root_mean_squared_error: 1.9980 - val_loss: 2.0470 - val_dense_14_loss: 2.1806 - val_dense_15_loss: 0.8442 - val_dense_14_root_mean_squared_error: 1.4767 - val_dense_15_root_mean_squared_error: 0.9188\n"
     ]
    }
   ],
   "source": [
    "norm_layer_1.adapt(X_train_wide)\n",
    "norm_layer_2.adapt(X_train_deep)\n",
    "history = model.fit((X_train_wide, X_train_deep), (y_train, y_train), epochs=20, validation_data=((X_valid_wide, X_valid_deep), (y_valid, y_valid)))"
   ]
  },
  {
   "cell_type": "code",
   "execution_count": 31,
   "id": "a65d424e",
   "metadata": {},
   "outputs": [
    {
     "name": "stdout",
     "output_type": "stream",
     "text": [
      "162/162 [==============================] - 1s 7ms/step - loss: 0.7776 - dense_14_loss: 0.7758 - dense_15_loss: 0.7941 - dense_14_root_mean_squared_error: 0.8808 - dense_15_root_mean_squared_error: 0.8911\n"
     ]
    }
   ],
   "source": [
    "eval_results = model.evaluate((X_test_wide, X_test_deep), (y_test, y_test))\n",
    "weighted_sum_of_losses, main_loss, aux_loss, main_rmse, aux_rmse = eval_results"
   ]
  },
  {
   "cell_type": "code",
   "execution_count": 32,
   "id": "8ee1990c",
   "metadata": {},
   "outputs": [
    {
     "name": "stderr",
     "output_type": "stream",
     "text": [
      "2025-04-15 21:17:54.313882: I tensorflow/core/grappler/optimizers/custom_graph_optimizer_registry.cc:114] Plugin optimizer for device_type GPU is enabled.\n"
     ]
    },
    {
     "name": "stdout",
     "output_type": "stream",
     "text": [
      "1/1 [==============================] - 1s 792ms/step\n"
     ]
    }
   ],
   "source": [
    "y_pred_main, y_pred_aux = model.predict((X_new_wide, X_new_deep))"
   ]
  },
  {
   "cell_type": "code",
   "execution_count": 33,
   "id": "0c32b9f2",
   "metadata": {},
   "outputs": [
    {
     "name": "stdout",
     "output_type": "stream",
     "text": [
      "1/1 [==============================] - 0s 17ms/step\n"
     ]
    }
   ],
   "source": [
    "y_pred_tuple = model.predict((X_new_wide, X_new_deep))\n",
    "y_pred = dict(zip(model.output_names, y_pred_tuple))"
   ]
  },
  {
   "cell_type": "markdown",
   "id": "a00f911b",
   "metadata": {},
   "source": [
    "# Subclassing"
   ]
  },
  {
   "cell_type": "code",
   "execution_count": 34,
   "id": "44bc5bab",
   "metadata": {},
   "outputs": [],
   "source": [
    "class WideAndDeepModel(tf.keras.Model):\n",
    "    def __init__(self, units = 30,activation = \"relu\",  **kwargs):\n",
    "        super().__init__(**kwargs)\n",
    "        self.norm_layer_wide = keras.layers.Normalization()\n",
    "        self.norm_layer_deep = keras.layers.Normalization()\n",
    "\n",
    "        self.hidden1 = keras.layers.Dense(units, activation)\n",
    "        self.hidden2 = keras.layers.Dense(units, activation)\n",
    "\n",
    "        self.main_output = keras.layers.Dense(1)\n",
    "        self.aux_output = keras.layers.Dense(1)\n",
    "    \n",
    "    def call(self, inputs):\n",
    "        input_wide, input_deep = inputs\n",
    "        norm_wide = self.norm_layer_wide(input_wide)\n",
    "        norm_deep = self.norm_layer_deep(input_deep)\n",
    "        hidden1 = self.hidden1(norm_deep)\n",
    "        hidden2 = self.hidden2(hidden1)\n",
    "        concat = tf.keras.layers.concatenate([norm_wide, hidden2])\n",
    "        output = self.main_output(concat)\n",
    "        aux_output = self.aux_output(hidden2)\n",
    "        return output, aux_output\n"
   ]
  },
  {
   "cell_type": "code",
   "execution_count": null,
   "id": "8e44986f",
   "metadata": {},
   "outputs": [],
   "source": [
    "#model = WideAndDeepModel(30, activation=\"relu\", name=\"my_cool_model\")"
   ]
  },
  {
   "cell_type": "markdown",
   "id": "6e6da79e",
   "metadata": {},
   "source": [
    "# Saving and Restoring a Model"
   ]
  },
  {
   "cell_type": "code",
   "execution_count": 47,
   "id": "35921ce5",
   "metadata": {},
   "outputs": [
    {
     "name": "stdout",
     "output_type": "stream",
     "text": [
      "INFO:tensorflow:Assets written to: my_keras_model/assets\n"
     ]
    },
    {
     "name": "stderr",
     "output_type": "stream",
     "text": [
      "INFO:tensorflow:Assets written to: my_keras_model/assets\n"
     ]
    }
   ],
   "source": [
    "model.save(\"my_keras_model\", save_format=\"tf\")"
   ]
  },
  {
   "cell_type": "code",
   "execution_count": null,
   "id": "c9176995",
   "metadata": {},
   "outputs": [],
   "source": [
    "loaded_model = tf.keras.models.load_model(\"my_keras_model\")"
   ]
  },
  {
   "cell_type": "markdown",
   "id": "070d0aa7",
   "metadata": {},
   "source": [
    "You can also use save_weights() and load_weights() to save and load only the parameter values."
   ]
  },
  {
   "cell_type": "markdown",
   "id": "7bc03640",
   "metadata": {},
   "source": [
    "## Checkpoints\n",
    "\n",
    "The fit() method accepts a callbacks argument that lets you specify a list of\n",
    "objects that Keras will call before and after training, before and after each\n",
    "epoch, and even before and after processing each batch. For example, the\n",
    "ModelCheckpoint callback saves checkpoints of your model at regular\n",
    "intervals during training, by default at the end of each epoch:"
   ]
  },
  {
   "cell_type": "code",
   "execution_count": 49,
   "id": "3d2c18d9",
   "metadata": {},
   "outputs": [],
   "source": [
    "checkpoint_cb = tf.keras.callbacks.ModelCheckpoint(\"my_checkpoints\", save_weights_only=True)"
   ]
  },
  {
   "cell_type": "code",
   "execution_count": null,
   "id": "230b5180",
   "metadata": {},
   "outputs": [],
   "source": [
    "history = model.fit((X_train_wide, X_train_deep), (y_train, y_train), epochs=20, validation_data=((X_valid_wide, X_valid_deep), (y_valid, y_valid)), checkpoint = checkpoint_cb)"
   ]
  },
  {
   "cell_type": "markdown",
   "id": "e8f3a3be",
   "metadata": {},
   "source": [
    "Implementing Early Stopping"
   ]
  },
  {
   "cell_type": "code",
   "execution_count": null,
   "id": "6667858d",
   "metadata": {},
   "outputs": [],
   "source": [
    "early_stopping_cb = tf.keras.callbacks.EarlyStopping(patience=10, restore_best_weights=True)\n",
    "history = model.fit((X_train_wide, X_train_deep), (y_train, y_train), epochs=20, validation_data=((X_valid_wide, X_valid_deep), (y_valid, y_valid)), checkpoint = early_stopping_cb)"
   ]
  },
  {
   "cell_type": "markdown",
   "id": "263b885e",
   "metadata": {},
   "source": [
    "Custom Callbacks"
   ]
  },
  {
   "cell_type": "code",
   "execution_count": null,
   "id": "7368d077",
   "metadata": {},
   "outputs": [],
   "source": [
    "class PrintValTrainRatioCallback(tf.keras.callbacks.Callback):\n",
    "    def on_epoch_end(self, epoch, logs):\n",
    "        ratio = logs[\"val_loss\"] / logs[\"loss\"]\n",
    "        print(f\"Epoch={epoch}, val/train={ratio:.2f}\")"
   ]
  }
 ],
 "metadata": {
  "kernelspec": {
   "display_name": "myenv",
   "language": "python",
   "name": "python3"
  },
  "language_info": {
   "codemirror_mode": {
    "name": "ipython",
    "version": 3
   },
   "file_extension": ".py",
   "mimetype": "text/x-python",
   "name": "python",
   "nbconvert_exporter": "python",
   "pygments_lexer": "ipython3",
   "version": "3.10.17"
  }
 },
 "nbformat": 4,
 "nbformat_minor": 5
}
